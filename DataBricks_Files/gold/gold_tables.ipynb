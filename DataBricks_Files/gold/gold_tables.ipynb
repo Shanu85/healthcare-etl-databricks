{
 "cells": [
  {
   "cell_type": "code",
   "execution_count": 0,
   "metadata": {
    "application/vnd.databricks.v1+cell": {
     "cellMetadata": {
      "byteLimit": 2048000,
      "implicitDf": true,
      "rowLimit": 10000
     },
     "inputWidgets": {},
     "nuid": "3305b7bb-000d-4cca-8490-a058e6969e78",
     "showTitle": false,
     "tableResultSettingsMap": {},
     "title": ""
    }
   },
   "outputs": [],
   "source": [
    "%sql\n",
    "\n",
    "use catalog emrcatalog;\n",
    "\n",
    "create schema if not exists gold;\n",
    "\n",
    "CREATE TABLE IF NOT EXISTS gold.dim_department\n",
    "(\n",
    "Dept_Id string,\n",
    "SRC_Dept_Id string,\n",
    "Name string,\n",
    "datasource string\n",
    ");\n",
    "\n",
    "truncate TABLE gold.dim_department;\n",
    "\n",
    "insert into gold.dim_department\n",
    "select \n",
    "distinct\n",
    "Dept_Id ,\n",
    "Source_Dept_Id,\n",
    "Name,\n",
    "datasource \n",
    "from silver.departments\n",
    "where is_quarantine=false;\n",
    "\n",
    "select * from gold.dim_department limit 10;"
   ]
  },
  {
   "cell_type": "code",
   "execution_count": 0,
   "metadata": {
    "application/vnd.databricks.v1+cell": {
     "cellMetadata": {
      "byteLimit": 2048000,
      "implicitDf": true,
      "rowLimit": 10000
     },
     "inputWidgets": {},
     "nuid": "bde14946-7d92-4c85-86f2-0147c2ac7886",
     "showTitle": false,
     "tableResultSettingsMap": {},
     "title": ""
    }
   },
   "outputs": [],
   "source": [
    "%sql\n",
    "CREATE TABLE IF NOT EXISTS gold.dim_patient\n",
    "(\n",
    "    patient_key STRING,\n",
    "    src_patientid STRING,\n",
    "    firstname STRING,\n",
    "    lastname STRING,\n",
    "    middlename STRING,\n",
    "    ssn STRING,\n",
    "    phonenumber STRING,\n",
    "    gender STRING,\n",
    "    dob DATE,\n",
    "    address STRING,\n",
    "    datasource STRING\n",
    ");\n",
    "\n",
    "truncate TABLE gold.dim_patient;\n",
    "\n",
    "insert into gold.dim_patient\n",
    "select \n",
    "    patient_key ,\n",
    "    src_patient_id ,\n",
    "    firstname ,\n",
    "    lastname ,\n",
    "    middlename ,\n",
    "    ssn ,\n",
    "    phonenumber ,\n",
    "    gender ,\n",
    "    dob ,\n",
    "    address ,\n",
    "    datasource \n",
    " from silver.patients\n",
    " where is_current=true and is_quarantined=false;\n",
    "\n",
    " select * from gold.dim_patient limit 10;"
   ]
  },
  {
   "cell_type": "code",
   "execution_count": 0,
   "metadata": {
    "application/vnd.databricks.v1+cell": {
     "cellMetadata": {
      "byteLimit": 2048000,
      "implicitDf": true,
      "rowLimit": 10000
     },
     "inputWidgets": {},
     "nuid": "5ee2df3f-a16e-43ff-8fe3-e5eea2c77d27",
     "showTitle": false,
     "tableResultSettingsMap": {},
     "title": ""
    }
   },
   "outputs": [],
   "source": [
    "%sql\n",
    "CREATE TABLE IF NOT EXISTS gold.dim_provider\n",
    "(\n",
    "ProviderID string,\n",
    "FirstName string,\n",
    "LastName string,\n",
    "DeptID string,\n",
    "NPI long,\n",
    "datasource string\n",
    ");\n",
    "\n",
    "truncate TABLE gold.dim_provider;\n",
    "\n",
    "insert into gold.dim_provider\n",
    "select \n",
    "ProviderID ,\n",
    "FirstName ,\n",
    "LastName ,\n",
    "concat(DeptID,'-',datasource) deptid,\n",
    "NPI ,\n",
    "datasource \n",
    " from silver.providers\n",
    " where is_quarantine=false;\n",
    "\n",
    "select * from gold.dim_provider limit 10;"
   ]
  },
  {
   "cell_type": "code",
   "execution_count": 0,
   "metadata": {
    "application/vnd.databricks.v1+cell": {
     "cellMetadata": {
      "byteLimit": 2048000,
      "implicitDf": true,
      "rowLimit": 10000
     },
     "inputWidgets": {},
     "nuid": "dfbf71c1-9964-4914-9e3f-7369d4c49f3b",
     "showTitle": false,
     "tableResultSettingsMap": {},
     "title": ""
    }
   },
   "outputs": [],
   "source": [
    "%sql\n",
    "create table if not exists gold.fact_transactions\n",
    "(\n",
    "  TransactionID string,\n",
    "  SRC_TransactionID string,\n",
    "  EncounterID string,\n",
    "  FK_PatientID string,\n",
    "  FK_ProviderID string,\n",
    "  FK_DeptID string,\n",
    "  ICDCode string,\n",
    "  ProcedureCode string,\n",
    "  VisitType string,\n",
    "  ServiceDate date,\n",
    "  PaidDate date,\n",
    "  Amount double,\n",
    "  PaidAmount double,\n",
    "  AmountType string,\n",
    "  ClaimID string,\n",
    "  datasource string,\n",
    "  refreshed_at timestamp\n",
    ");\n",
    "\n",
    "truncate table gold.fact_transactions;\n",
    "\n",
    "insert into gold.fact_transactions\n",
    "select \n",
    "  t.TransactionID, \n",
    "  t.SRC_TransactionID,\n",
    "  t.EncounterID,\n",
    "  concat(t.PatientID,'-',t.datasource ) as FK_Patient_ID,\n",
    "  case when t.datasource='hos-a' then concat('H1-',t.providerID) else concat('H2-',t.providerID ) end as FK_Provider_ID, \n",
    "  concat(t.DeptID,'-',t.datasource ) as FK_Dept_ID, \n",
    "  t.ICDCode,\n",
    "  t.ProcedureCode CPT_Code,\n",
    "  t.VisitType,\n",
    "  t.ServiceDate, \n",
    "  t.PaidDate,\n",
    "  t.Amount Charge_Amt, \n",
    "  t.PaidAmount Paid_Amt, \n",
    "  t.AmountType,\n",
    "  t.ClaimID,\n",
    "  t.datasource,\n",
    "  current_timestamp()\n",
    "  from silver.transactions t \n",
    "  where t.is_current=true and t.is_quarantined=false;\n",
    "\n",
    "select * from gold.fact_transactions limit 10;"
   ]
  },
  {
   "cell_type": "code",
   "execution_count": 0,
   "metadata": {
    "application/vnd.databricks.v1+cell": {
     "cellMetadata": {},
     "inputWidgets": {},
     "nuid": "dc902f54-aa0f-4509-b5a4-3450188910eb",
     "showTitle": false,
     "tableResultSettingsMap": {},
     "title": ""
    }
   },
   "outputs": [],
   "source": []
  }
 ],
 "metadata": {
  "application/vnd.databricks.v1+notebook": {
   "computePreferences": null,
   "dashboards": [],
   "environmentMetadata": {
    "base_environment": "",
    "environment_version": "2"
   },
   "inputWidgetPreferences": null,
   "language": "python",
   "notebookMetadata": {
    "mostRecentlyExecutedCommandWithImplicitDF": {
     "commandId": 7375894094548080,
     "dataframes": [
      "_sqldf"
     ]
    },
    "pythonIndentUnit": 4
   },
   "notebookName": "gold_tables",
   "widgets": {}
  },
  "language_info": {
   "name": "python"
  }
 },
 "nbformat": 4,
 "nbformat_minor": 0
}
