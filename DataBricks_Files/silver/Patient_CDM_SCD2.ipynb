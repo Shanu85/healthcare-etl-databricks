{
 "cells": [
  {
   "cell_type": "code",
   "execution_count": 0,
   "metadata": {
    "application/vnd.databricks.v1+cell": {
     "cellMetadata": {
      "byteLimit": 2048000,
      "rowLimit": 10000
     },
     "inputWidgets": {},
     "nuid": "0031bbe6-5330-4050-8092-14ee2d70f499",
     "showTitle": false,
     "tableResultSettingsMap": {},
     "title": ""
    }
   },
   "outputs": [],
   "source": [
    "from pyspark.sql.functions import *"
   ]
  },
  {
   "cell_type": "code",
   "execution_count": 0,
   "metadata": {
    "application/vnd.databricks.v1+cell": {
     "cellMetadata": {
      "byteLimit": 2048000,
      "implicitDf": true,
      "rowLimit": 10000
     },
     "inputWidgets": {},
     "nuid": "7529a788-bab8-4bee-98bd-625c3a989402",
     "showTitle": false,
     "tableResultSettingsMap": {},
     "title": ""
    }
   },
   "outputs": [],
   "source": [
    "%sql\n",
    "use catalog emrcatalog"
   ]
  },
  {
   "cell_type": "code",
   "execution_count": 0,
   "metadata": {
    "application/vnd.databricks.v1+cell": {
     "cellMetadata": {
      "byteLimit": 2048000,
      "rowLimit": 10000
     },
     "inputWidgets": {},
     "nuid": "db048aaa-b2d9-4258-983a-64c80dd1b747",
     "showTitle": false,
     "tableResultSettingsMap": {},
     "title": ""
    }
   },
   "outputs": [],
   "source": [
    "df_hosa=spark.read.parquet('/mnt/bronze/hosa/patients')\n",
    "df_hosa.createOrReplaceTempView(\"patients_hosa\")\n",
    "\n",
    "df_hosb=spark.read.parquet('/mnt/bronze/hosb/patients')\n",
    "df_hosb.createOrReplaceTempView(\"patients_hosb\")"
   ]
  },
  {
   "cell_type": "code",
   "execution_count": 0,
   "metadata": {
    "application/vnd.databricks.v1+cell": {
     "cellMetadata": {
      "byteLimit": 2048000,
      "implicitDf": true,
      "rowLimit": 10000
     },
     "inputWidgets": {},
     "nuid": "d978cf8c-6f5e-484b-af26-f8961a497d4e",
     "showTitle": false,
     "tableResultSettingsMap": {},
     "title": ""
    }
   },
   "outputs": [],
   "source": [
    "%sql\n",
    "select * from patients_hosa limit 10;"
   ]
  },
  {
   "cell_type": "code",
   "execution_count": 0,
   "metadata": {
    "application/vnd.databricks.v1+cell": {
     "cellMetadata": {
      "byteLimit": 2048000,
      "implicitDf": true,
      "rowLimit": 10000
     },
     "inputWidgets": {},
     "nuid": "8f3881f2-d1b0-4e24-9008-faf1515de205",
     "showTitle": false,
     "tableResultSettingsMap": {},
     "title": ""
    }
   },
   "outputs": [],
   "source": [
    "%sql\n",
    "\n",
    "-- CDM (Common Data Model)\n",
    "\n",
    "create or replace temp view cdm_patients as\n",
    "select concat(src_patient_id,'-',datasource) as patient_key,* \n",
    "from \n",
    "(\n",
    "  select PatientID as src_patient_id,\n",
    "  FirstName,\n",
    "  LastName,\n",
    "  MiddleName,\n",
    "  SSN,\n",
    "  PhoneNumber,\n",
    "  Gender,\n",
    "  DOB,\n",
    "  Address,\n",
    "  ModifiedDate,\n",
    "  datasource\n",
    "  from patients_hosa\n",
    "  union all\n",
    "  select ID as src_patient_id,\n",
    "  F_Name as FirstName,\n",
    "  L_Name as LastName,\n",
    "  M_Name as MiddleName,\n",
    "  SSN,\n",
    "  PhoneNumber,\n",
    "  Gender,\n",
    "  DOB,\n",
    "  Address,\n",
    "  Updated_Date as ModifiedDate,\n",
    "  datasource\n",
    "  from patients_hosb\n",
    ")"
   ]
  },
  {
   "cell_type": "code",
   "execution_count": 0,
   "metadata": {
    "application/vnd.databricks.v1+cell": {
     "cellMetadata": {
      "byteLimit": 2048000,
      "implicitDf": true,
      "rowLimit": 10000
     },
     "inputWidgets": {},
     "nuid": "1d1ebab0-3bb3-468f-a88e-493855e72de0",
     "showTitle": false,
     "tableResultSettingsMap": {},
     "title": ""
    }
   },
   "outputs": [],
   "source": [
    "%sql\n",
    "select * from cdm_patients limit 10;"
   ]
  },
  {
   "cell_type": "code",
   "execution_count": 0,
   "metadata": {
    "application/vnd.databricks.v1+cell": {
     "cellMetadata": {
      "byteLimit": 2048000,
      "implicitDf": true,
      "rowLimit": 10000
     },
     "inputWidgets": {},
     "nuid": "0e00a119-b9ad-4814-823f-84f57f89f7bd",
     "showTitle": false,
     "tableResultSettingsMap": {},
     "title": ""
    }
   },
   "outputs": [],
   "source": [
    "%sql\n",
    "--quailty checks\n",
    "create or replace temp view quality_checks as\n",
    "select patient_key,src_patient_id,firstname,lastname,middlename,ssn,phonenumber,gender,dob,address,modifieddate,datasource,\n",
    "case when src_patient_id is null or dob is null or firstname is null or lower(firstname)='null' then true else false end as is_quarantined\n",
    "from cdm_patients"
   ]
  },
  {
   "cell_type": "code",
   "execution_count": 0,
   "metadata": {
    "application/vnd.databricks.v1+cell": {
     "cellMetadata": {
      "byteLimit": 2048000,
      "implicitDf": true,
      "rowLimit": 10000
     },
     "inputWidgets": {},
     "nuid": "5bd6da66-a8a0-4c44-a8ee-26509de7e8bf",
     "showTitle": false,
     "tableResultSettingsMap": {},
     "title": ""
    }
   },
   "outputs": [],
   "source": [
    "%sql\n",
    "select is_quarantined,count(*) as cnt from quality_checks group by is_quarantined;"
   ]
  },
  {
   "cell_type": "code",
   "execution_count": 0,
   "metadata": {
    "application/vnd.databricks.v1+cell": {
     "cellMetadata": {
      "byteLimit": 2048000,
      "implicitDf": true,
      "rowLimit": 10000
     },
     "inputWidgets": {},
     "nuid": "d2ad3783-22ea-45de-9789-f639de8e7999",
     "showTitle": false,
     "tableResultSettingsMap": {},
     "title": ""
    }
   },
   "outputs": [],
   "source": [
    "%sql\n",
    "-- SCD2 -> Slowly Changing Dimension Type 2, we will monitor this using inserted_date,modified_date,is_current columns\n",
    "create table if not exists silver.patients\n",
    "(\n",
    "  patient_key string,\n",
    "  src_patient_id string,\n",
    "  firstname string,\n",
    "  lastname string,\n",
    "  middlename string,\n",
    "  ssn string,\n",
    "  phonenumber string,\n",
    "  gender string,\n",
    "  dob date,\n",
    "  address string,\n",
    "  src_modifieddate timestamp,\n",
    "  datasource string,\n",
    "  is_quarantined boolean,\n",
    "  inserted_date timestamp,\n",
    "  modified_date timestamp,\n",
    "  is_current boolean\n",
    ")\n",
    "using delta;"
   ]
  },
  {
   "cell_type": "code",
   "execution_count": 0,
   "metadata": {
    "application/vnd.databricks.v1+cell": {
     "cellMetadata": {
      "byteLimit": 2048000,
      "rowLimit": 10000
     },
     "inputWidgets": {},
     "nuid": "d13609f5-0994-44ad-b87c-879a5f49976b",
     "showTitle": false,
     "tableResultSettingsMap": {},
     "title": ""
    }
   },
   "outputs": [],
   "source": [
    "from pyspark.sql.functions import current_timestamp"
   ]
  },
  {
   "cell_type": "code",
   "execution_count": 0,
   "metadata": {
    "application/vnd.databricks.v1+cell": {
     "cellMetadata": {
      "byteLimit": 2048000,
      "implicitDf": true,
      "rowLimit": 10000
     },
     "inputWidgets": {},
     "nuid": "eefdac17-16c6-4d04-8bce-e4e4c18c9fd8",
     "showTitle": false,
     "tableResultSettingsMap": {},
     "title": ""
    }
   },
   "outputs": [],
   "source": [
    "%sql\n",
    "-- step1 : mark existing records as historical (is_current=false) for patients will be updated\n",
    "merge into silver.patients as target\n",
    "using quality_checks as source\n",
    "on target.patient_key=source.patient_key and target.is_current=true\n",
    "when matched \n",
    "and -- check if any of below mentioned column is changing\n",
    "(\n",
    "  target.src_modifieddate!=source.modifieddate or\n",
    "  target.src_patient_id!=source.src_patient_id or\n",
    "  target.firstname!=source.firstname or\n",
    "  target.lastname!=source.lastname or\n",
    "  target.middlename!=source.middlename or\n",
    "  target.ssn!=source.ssn or\n",
    "  target.phonenumber!=source.phonenumber or\n",
    "  target.gender!=source.gender or\n",
    "  target.address!=source.address or\n",
    "  target.datasource!=source.datasource or\n",
    "  target.is_quarantined!=source.is_quarantined\n",
    ")\n",
    "then update set target.is_current=false,target.modified_date=current_timestamp() -- end the record \n",
    "\n",
    "when not matched -- we are seeing this record for the first time\n",
    "then insert\n",
    "(\n",
    "  patient_key,\n",
    "  src_patient_id,\n",
    "  firstname,\n",
    "  lastname,\n",
    "  middlename,\n",
    "  ssn,\n",
    "  phonenumber,\n",
    "  gender,\n",
    "  dob,\n",
    "  address,\n",
    "  src_modifieddate,\n",
    "  datasource,\n",
    "  is_quarantined,\n",
    "  inserted_date,\n",
    "  modified_date,\n",
    "  is_current\n",
    ")\n",
    "values\n",
    "(\n",
    "  source.patient_key,\n",
    "  source.src_patient_id,\n",
    "  source.firstname,\n",
    "  source.lastname,\n",
    "  source.middlename,\n",
    "  source.ssn,\n",
    "  source.phonenumber,\n",
    "  source.gender,\n",
    "  source.dob,\n",
    "  source.address,\n",
    "  source.modifieddate,\n",
    "  source.datasource,\n",
    "  source.is_quarantined,\n",
    "  current_timestamp(), -- set current timestamp as inserted date\n",
    "  current_timestamp(),\n",
    "  true -- mark this record as active\n",
    ");\n"
   ]
  },
  {
   "cell_type": "code",
   "execution_count": 0,
   "metadata": {
    "application/vnd.databricks.v1+cell": {
     "cellMetadata": {
      "byteLimit": 2048000,
      "implicitDf": true,
      "rowLimit": 10000
     },
     "inputWidgets": {},
     "nuid": "feb9bba9-2d8f-43f8-8e96-5b3a7cdc7d5b",
     "showTitle": false,
     "tableResultSettingsMap": {},
     "title": ""
    }
   },
   "outputs": [],
   "source": [
    "%sql\n",
    "-- incase when record is changing we ended the previous record, now we need to insert the new updated record\n",
    "\n",
    "merge into silver.patients as target\n",
    "using quality_checks as source\n",
    "on target.patient_key=source.patient_key \n",
    "and target.is_current=true -- last we changed is_current to false\n",
    "when not matched \n",
    "then insert\n",
    "(\n",
    "  patient_key,\n",
    "  src_patient_id,\n",
    "  firstname,\n",
    "  lastname,\n",
    "  middlename,\n",
    "  ssn,\n",
    "  phonenumber,\n",
    "  gender,\n",
    "  dob,\n",
    "  address,\n",
    "  src_modifieddate,\n",
    "  datasource,\n",
    "  is_quarantined,\n",
    "  inserted_date,\n",
    "  modified_date,\n",
    "  is_current\n",
    ")\n",
    "values\n",
    "(\n",
    "  source.patient_key,\n",
    "  source.src_patient_id,\n",
    "  source.firstname,\n",
    "  source.lastname,\n",
    "  source.middlename,\n",
    "  source.ssn,\n",
    "  source.phonenumber,\n",
    "  source.gender,\n",
    "  source.dob,\n",
    "  source.address,\n",
    "  source.modifieddate,\n",
    "  source.datasource,\n",
    "  source.is_quarantined,\n",
    "  current_timestamp(), -- set current timestamp as inserted date\n",
    "  current_timestamp(),\n",
    "  true -- mark this record as active\n",
    ");\n"
   ]
  },
  {
   "cell_type": "code",
   "execution_count": 0,
   "metadata": {
    "application/vnd.databricks.v1+cell": {
     "cellMetadata": {
      "byteLimit": 2048000,
      "implicitDf": true,
      "rowLimit": 10000
     },
     "inputWidgets": {},
     "nuid": "c031c2d7-ed35-41ca-b188-4c0f0306d466",
     "showTitle": false,
     "tableResultSettingsMap": {},
     "title": ""
    }
   },
   "outputs": [],
   "source": [
    "%sql\n",
    "select patient_key,count(*) from silver.patients group by patient_key;"
   ]
  },
  {
   "cell_type": "code",
   "execution_count": 0,
   "metadata": {
    "application/vnd.databricks.v1+cell": {
     "cellMetadata": {},
     "inputWidgets": {},
     "nuid": "e334f81a-f7e5-4694-bc49-d4905eaf93f7",
     "showTitle": false,
     "tableResultSettingsMap": {},
     "title": ""
    }
   },
   "outputs": [],
   "source": []
  },
  {
   "cell_type": "code",
   "execution_count": 0,
   "metadata": {
    "application/vnd.databricks.v1+cell": {
     "cellMetadata": {},
     "inputWidgets": {},
     "nuid": "f3394fbf-96e6-40f5-afa4-1e392b8b7cce",
     "showTitle": false,
     "tableResultSettingsMap": {},
     "title": ""
    }
   },
   "outputs": [],
   "source": []
  }
 ],
 "metadata": {
  "application/vnd.databricks.v1+notebook": {
   "computePreferences": null,
   "dashboards": [],
   "environmentMetadata": {
    "base_environment": "",
    "environment_version": "2"
   },
   "inputWidgetPreferences": null,
   "language": "python",
   "notebookMetadata": {
    "mostRecentlyExecutedCommandWithImplicitDF": {
     "commandId": 6748570093998563,
     "dataframes": [
      "_sqldf"
     ]
    },
    "pythonIndentUnit": 4
   },
   "notebookName": "Patient_CDM_SCD2",
   "widgets": {}
  },
  "language_info": {
   "name": "python"
  }
 },
 "nbformat": 4,
 "nbformat_minor": 0
}
