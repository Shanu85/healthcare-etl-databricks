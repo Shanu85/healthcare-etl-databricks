{
 "cells": [
  {
   "cell_type": "code",
   "execution_count": 0,
   "metadata": {
    "application/vnd.databricks.v1+cell": {
     "cellMetadata": {
      "byteLimit": 2048000,
      "rowLimit": 10000
     },
     "inputWidgets": {},
     "nuid": "b375cc86-60cf-4d11-a0fd-b387a84bdb99",
     "showTitle": false,
     "tableResultSettingsMap": {},
     "title": ""
    }
   },
   "outputs": [],
   "source": [
    "from pyspark.sql.functions import *"
   ]
  },
  {
   "cell_type": "code",
   "execution_count": 0,
   "metadata": {
    "application/vnd.databricks.v1+cell": {
     "cellMetadata": {
      "byteLimit": 2048000,
      "implicitDf": true,
      "rowLimit": 10000
     },
     "inputWidgets": {},
     "nuid": "897ce912-d12e-4e82-a585-9497b8ab89e5",
     "showTitle": false,
     "tableResultSettingsMap": {},
     "title": ""
    }
   },
   "outputs": [],
   "source": [
    "%sql\n",
    "use catalog emrcatalog"
   ]
  },
  {
   "cell_type": "code",
   "execution_count": 0,
   "metadata": {
    "application/vnd.databricks.v1+cell": {
     "cellMetadata": {
      "byteLimit": 2048000,
      "rowLimit": 10000
     },
     "inputWidgets": {},
     "nuid": "2eee3688-4966-4e58-96ef-139f8acafe01",
     "showTitle": false,
     "tableResultSettingsMap": {},
     "title": ""
    }
   },
   "outputs": [],
   "source": [
    "df_hosa=spark.read.parquet('/mnt/bronze/hosa/encounters')\n",
    "df_hosb=spark.read.parquet('/mnt/bronze/hosb/encounters')\n",
    "\n",
    "df_merged=df_hosa.unionByName(df_hosb)\n",
    "\n",
    "display(df_merged.limit(5))\n",
    "\n",
    "df_merged.createOrReplaceTempView('encounters')"
   ]
  },
  {
   "cell_type": "code",
   "execution_count": 0,
   "metadata": {
    "application/vnd.databricks.v1+cell": {
     "cellMetadata": {
      "byteLimit": 2048000,
      "implicitDf": true,
      "rowLimit": 10000
     },
     "inputWidgets": {},
     "nuid": "2716bdee-2d64-4b03-ae1b-148b8e3b6dc7",
     "showTitle": false,
     "tableResultSettingsMap": {},
     "title": ""
    }
   },
   "outputs": [],
   "source": [
    "%sql\n",
    "create or replace temp view quality_checks as\n",
    "select concat(encounterid,'-',datasource) as encounter_id,\n",
    "encounterid as src_encounter_id,\n",
    "patientid,\n",
    "encounterdate,\n",
    "encountertype,\n",
    "providerid,\n",
    "departmentid,\n",
    "procedurecode,\n",
    "inserteddate as src_InsertedDate,\n",
    "modifieddate as src_modifieddate,\n",
    "datasource,\n",
    "case when EncounterID IS NULL OR PatientID IS NULL THEN TRUE else false end as is_quarantined\n",
    "from encounters;"
   ]
  },
  {
   "cell_type": "code",
   "execution_count": 0,
   "metadata": {
    "application/vnd.databricks.v1+cell": {
     "cellMetadata": {
      "byteLimit": 2048000,
      "implicitDf": true,
      "rowLimit": 10000
     },
     "inputWidgets": {},
     "nuid": "817000c9-88df-48ad-921e-ff388f979e44",
     "showTitle": false,
     "tableResultSettingsMap": {},
     "title": ""
    }
   },
   "outputs": [],
   "source": [
    "%sql\n",
    "CREATE TABLE IF NOT EXISTS silver.encounters (\n",
    "EncounterID string,\n",
    "SRC_EncounterID string,\n",
    "PatientID string,\n",
    "EncounterDate date,\n",
    "EncounterType string,\n",
    "ProviderID string,\n",
    "DepartmentID string,\n",
    "ProcedureCode integer,\n",
    "SRC_InsertedDate date,\n",
    "SRC_ModifiedDate date,\n",
    "datasource string,\n",
    "is_quarantined boolean,\n",
    "audit_insertdate timestamp,\n",
    "audit_modifieddate timestamp,\n",
    "is_current boolean\n",
    ")\n",
    "USING DELTA;"
   ]
  },
  {
   "cell_type": "code",
   "execution_count": 0,
   "metadata": {
    "application/vnd.databricks.v1+cell": {
     "cellMetadata": {
      "byteLimit": 2048000,
      "implicitDf": true,
      "rowLimit": 10000
     },
     "inputWidgets": {},
     "nuid": "c4203dc8-c68c-40e3-b2c7-7cb975ddda32",
     "showTitle": false,
     "tableResultSettingsMap": {},
     "title": ""
    }
   },
   "outputs": [],
   "source": [
    "%sql\n",
    "-- Update old record to implement SCD Type 2\n",
    "merge into silver.encounters as target\n",
    "using quality_checks as source\n",
    "on target.EncounterID = source.encounter_id and target.is_current = true\n",
    "when matched and\n",
    "(\n",
    "  source.src_encounter_id!=target.SRC_EncounterID or\n",
    "  source.patientid!=target.patientid or\n",
    "  source.EncounterDate!=target.EncounterDate or\n",
    "  source.EncounterType!=target.EncounterType or\n",
    "  source.ProviderID!=target.ProviderID or\n",
    "  source.DepartmentID!=target.DepartmentID or\n",
    "  source.ProcedureCode!=target.ProcedureCode or\n",
    "  source.SRC_InsertedDate!=target.SRC_InsertedDate or\n",
    "  source.SRC_ModifiedDate!=target.SRC_ModifiedDate or\n",
    "  source.datasource!=target.datasource or\n",
    "  source.is_quarantined!=target.is_quarantined\n",
    ")\n",
    "then update set target.is_current=false,target.audit_modifieddate=current_timestamp()"
   ]
  },
  {
   "cell_type": "code",
   "execution_count": 0,
   "metadata": {
    "application/vnd.databricks.v1+cell": {
     "cellMetadata": {
      "byteLimit": 2048000,
      "implicitDf": true,
      "rowLimit": 10000
     },
     "inputWidgets": {},
     "nuid": "ddbe47ac-41fc-4231-93bc-e4d9ec857f3a",
     "showTitle": false,
     "tableResultSettingsMap": {},
     "title": ""
    }
   },
   "outputs": [],
   "source": [
    "%sql\n",
    "-- Insert new record to implement SCD Type 2\n",
    "merge into silver.encounters as target\n",
    "using quality_checks as source\n",
    "on target.EncounterID = source.encounter_id and target.is_current = true\n",
    "when not matched then\n",
    "insert\n",
    "(\n",
    "  EncounterID,\n",
    "  SRC_EncounterID,\n",
    "  PatientID,\n",
    "  EncounterDate,\n",
    "  EncounterType,\n",
    "  ProviderID,\n",
    "  DepartmentID,\n",
    "  ProcedureCode,\n",
    "  SRC_InsertedDate,\n",
    "  SRC_ModifiedDate,\n",
    "  datasource,\n",
    "  is_quarantined,\n",
    "  audit_insertdate,\n",
    "  audit_modifieddate,\n",
    "  is_current\n",
    ")\n",
    "values\n",
    "(\n",
    "  source.encounter_id,\n",
    "  source.src_encounter_id,\n",
    "  source.patientid,\n",
    "  source.EncounterDate,\n",
    "  source.EncounterType,\n",
    "  source.ProviderID,\n",
    "  source.DepartmentID,\n",
    "  source.ProcedureCode,\n",
    "  source.SRC_InsertedDate,\n",
    "  source.SRC_ModifiedDate,\n",
    "  source.datasource,\n",
    "  source.is_quarantined,\n",
    "  current_timestamp(),\n",
    "  current_timestamp(),\n",
    "  true\n",
    ");"
   ]
  },
  {
   "cell_type": "code",
   "execution_count": 0,
   "metadata": {
    "application/vnd.databricks.v1+cell": {
     "cellMetadata": {
      "byteLimit": 2048000,
      "implicitDf": true,
      "rowLimit": 10000
     },
     "inputWidgets": {},
     "nuid": "36d361bc-0f2a-42b7-9f85-fd2d8abce130",
     "showTitle": false,
     "tableResultSettingsMap": {},
     "title": ""
    }
   },
   "outputs": [],
   "source": [
    "%sql\n",
    "select SRC_EncounterID,datasource,count(patientid) from  silver.encounters group by all order by 3 desc;"
   ]
  },
  {
   "cell_type": "code",
   "execution_count": 0,
   "metadata": {
    "application/vnd.databricks.v1+cell": {
     "cellMetadata": {},
     "inputWidgets": {},
     "nuid": "889a1d5c-9119-4c00-b6e0-169d5017895c",
     "showTitle": false,
     "tableResultSettingsMap": {},
     "title": ""
    }
   },
   "outputs": [],
   "source": []
  }
 ],
 "metadata": {
  "application/vnd.databricks.v1+notebook": {
   "computePreferences": null,
   "dashboards": [],
   "environmentMetadata": {
    "base_environment": "",
    "environment_version": "2"
   },
   "inputWidgetPreferences": null,
   "language": "python",
   "notebookMetadata": {
    "mostRecentlyExecutedCommandWithImplicitDF": {
     "commandId": 7231773350164458,
     "dataframes": [
      "_sqldf"
     ]
    },
    "pythonIndentUnit": 4
   },
   "notebookName": "Encounters_CDM_SCD2",
   "widgets": {}
  },
  "language_info": {
   "name": "python"
  }
 },
 "nbformat": 4,
 "nbformat_minor": 0
}
