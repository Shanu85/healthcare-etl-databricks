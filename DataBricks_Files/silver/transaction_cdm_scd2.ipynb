{
 "cells": [
  {
   "cell_type": "code",
   "execution_count": 0,
   "metadata": {
    "application/vnd.databricks.v1+cell": {
     "cellMetadata": {
      "byteLimit": 2048000,
      "rowLimit": 10000
     },
     "inputWidgets": {},
     "nuid": "bc1b3634-1e5c-4f4d-84a6-38953dc4c27f",
     "showTitle": false,
     "tableResultSettingsMap": {},
     "title": ""
    }
   },
   "outputs": [],
   "source": [
    "from pyspark.sql.functions import *"
   ]
  },
  {
   "cell_type": "code",
   "execution_count": 0,
   "metadata": {
    "application/vnd.databricks.v1+cell": {
     "cellMetadata": {
      "byteLimit": 2048000,
      "implicitDf": true,
      "rowLimit": 10000
     },
     "inputWidgets": {},
     "nuid": "302ff417-a205-46a8-a4d5-e42d4a3852ad",
     "showTitle": false,
     "tableResultSettingsMap": {},
     "title": ""
    }
   },
   "outputs": [],
   "source": [
    "%sql \n",
    "use catalog emrcatalog"
   ]
  },
  {
   "cell_type": "code",
   "execution_count": 0,
   "metadata": {
    "application/vnd.databricks.v1+cell": {
     "cellMetadata": {
      "byteLimit": 2048000,
      "rowLimit": 10000
     },
     "inputWidgets": {},
     "nuid": "112072a5-5d02-4ed4-9e48-e4a6788aa38e",
     "showTitle": false,
     "tableResultSettingsMap": {},
     "title": ""
    }
   },
   "outputs": [],
   "source": [
    "df_hosa=spark.read.parquet('/mnt/bronze/hosa/transactions')\n",
    "df_hosb=spark.read.parquet('/mnt/bronze/hosb/transactions')\n",
    "\n",
    "df_merged=df_hosa.unionByName(df_hosb)\n",
    "\n",
    "display(df_merged.limit(5))\n",
    "\n",
    "df_merged.createOrReplaceTempView('transactions')"
   ]
  },
  {
   "cell_type": "code",
   "execution_count": 0,
   "metadata": {
    "application/vnd.databricks.v1+cell": {
     "cellMetadata": {
      "byteLimit": 2048000,
      "implicitDf": true,
      "rowLimit": 10000
     },
     "inputWidgets": {},
     "nuid": "f32e87e3-4e61-4c41-be38-7566187cbd76",
     "showTitle": false,
     "tableResultSettingsMap": {},
     "title": ""
    }
   },
   "outputs": [],
   "source": [
    "%sql\n",
    "create or replace temp view quailty_checks as\n",
    "select concat(transactionid,'-',datasource) as transactionid,\n",
    "transactionid as src_transactionid,\n",
    "encounterid,\n",
    "patientid,\n",
    "providerid,\n",
    "deptid,\n",
    "visitdate,\n",
    "servicedate,\n",
    "paiddate,\n",
    "visittype,\n",
    "amount,\n",
    "amounttype,\n",
    "paidamount,\n",
    "claimid,\n",
    "payorid,\n",
    "procedurecode,\n",
    "icdcode,\n",
    "lineofbusiness,\n",
    "medicaidid,\n",
    "medicareid,\n",
    "insertdate as src_insertdate,\n",
    "modifieddate as src_modifieddate,\n",
    "datasource,\n",
    "case when transactionid is null or encounterid is null or patientid is null or  visitdate is null then true else false end as is_quarantined\n",
    "from transactions;"
   ]
  },
  {
   "cell_type": "code",
   "execution_count": 0,
   "metadata": {
    "application/vnd.databricks.v1+cell": {
     "cellMetadata": {
      "byteLimit": 2048000,
      "implicitDf": true,
      "rowLimit": 10000
     },
     "inputWidgets": {},
     "nuid": "03f54709-8185-43af-9b73-841e78eff959",
     "showTitle": false,
     "tableResultSettingsMap": {},
     "title": ""
    }
   },
   "outputs": [],
   "source": [
    "%sql\n",
    "select * from quailty_checks limit 5;"
   ]
  },
  {
   "cell_type": "code",
   "execution_count": 0,
   "metadata": {
    "application/vnd.databricks.v1+cell": {
     "cellMetadata": {
      "byteLimit": 2048000,
      "implicitDf": true,
      "rowLimit": 10000
     },
     "inputWidgets": {},
     "nuid": "4b934537-6eab-4979-9a04-5826e1198574",
     "showTitle": false,
     "tableResultSettingsMap": {},
     "title": ""
    }
   },
   "outputs": [],
   "source": [
    "%sql\n",
    "CREATE TABLE IF NOT EXISTS silver.transactions (\n",
    "  TransactionID string,\n",
    "  SRC_TransactionID string,\n",
    "  EncounterID string,\n",
    "  PatientID string,\n",
    "  ProviderID string,\n",
    "  DeptID string,\n",
    "  VisitDate date,\n",
    "  ServiceDate date,\n",
    "  PaidDate date,\n",
    "  VisitType string,\n",
    "  Amount double,\n",
    "  AmountType string,\n",
    "  PaidAmount double,\n",
    "  ClaimID string,\n",
    "  PayorID string,\n",
    "  ProcedureCode integer,\n",
    "  ICDCode string,\n",
    "  LineOfBusiness string,\n",
    "  MedicaidID string,\n",
    "  MedicareID string,\n",
    "  SRC_InsertDate date,\n",
    "  SRC_ModifiedDate date,\n",
    "  datasource string,\n",
    "  is_quarantined boolean,\n",
    "  audit_insertdate timestamp,\n",
    "  audit_modifieddate timestamp,\n",
    "  is_current boolean\n",
    ")\n",
    "USING DELTA;"
   ]
  },
  {
   "cell_type": "code",
   "execution_count": 0,
   "metadata": {
    "application/vnd.databricks.v1+cell": {
     "cellMetadata": {
      "byteLimit": 2048000,
      "implicitDf": true,
      "rowLimit": 10000
     },
     "inputWidgets": {},
     "nuid": "0b589782-ddda-489d-bd1c-d8a19445d678",
     "showTitle": false,
     "tableResultSettingsMap": {},
     "title": ""
    }
   },
   "outputs": [],
   "source": [
    "%sql\n",
    "-- step1 : mark existing records as historical (is_current=false) for patients will be updated\n",
    "merge into silver.transactions as target\n",
    "using quailty_checks as source\n",
    "on target.TransactionID=source.TransactionID and target.is_current=true\n",
    "when matched \n",
    "and -- check if any of below mentioned column is changing\n",
    "(\n",
    "  target.src_transactionid <> source.src_transactionid or\n",
    "  target.encounterid <> source.encounterid or\n",
    "  target.patientid <> source.patientid or\n",
    "  target.providerid <> source.providerid or\n",
    "  target.deptid <> source.deptid or\n",
    "  target.visitdate <> source.visitdate or\n",
    "  target.servicedate <> source.servicedate or\n",
    "  target.paiddate <> source.paiddate or\n",
    "  target.visittype <> source.visittype or\n",
    "  target.amount <> source.amount or\n",
    "  target.amounttype <> source.amounttype or\n",
    "  target.paidamount <> source.paidamount or\n",
    "  target.claimid <> source.claimid or\n",
    "  target.payorid <> source.payorid or\n",
    "  target.procedurecode <> source.procedurecode or\n",
    "  target.icdcode <> source.icdcode or\n",
    "  target.lineofbusiness <> source.lineofbusiness or\n",
    "  target.medicaidid <> source.medicaidid or\n",
    "  target.src_insertdate <> source.src_insertdate or\n",
    "  target.src_modifieddate <> source.src_modifieddate or\n",
    "  target.medicareid <> source.medicareid or\n",
    "  target.MedicaidID <> source.MedicaidID or\n",
    "  target.datasource <> source.datasource or\n",
    "  target.is_quarantined <> source.is_quarantined\n",
    ")\n",
    "then update set target.is_current=false,target.audit_modifieddate=current_timestamp() -- end the record \n"
   ]
  },
  {
   "cell_type": "code",
   "execution_count": 0,
   "metadata": {
    "application/vnd.databricks.v1+cell": {
     "cellMetadata": {
      "byteLimit": 2048000,
      "implicitDf": true,
      "rowLimit": 10000
     },
     "inputWidgets": {},
     "nuid": "3ec109fe-c663-4257-a83c-f205638cd432",
     "showTitle": false,
     "tableResultSettingsMap": {},
     "title": ""
    }
   },
   "outputs": [],
   "source": [
    "%sql\n",
    "-- step1 : insert into record when new record is coming or when a record is updated\n",
    "merge into silver.transactions as target\n",
    "using quailty_checks as source\n",
    "on target.TransactionID=source.TransactionID and target.is_current=true\n",
    "when not matched then\n",
    "insert \n",
    "(\n",
    "  TransactionID,\n",
    "SRC_TransactionID,\n",
    "EncounterID,\n",
    "PatientID,\n",
    "ProviderID,\n",
    "DeptID,\n",
    "VisitDate,\n",
    "ServiceDate,\n",
    "PaidDate,\n",
    "VisitType,\n",
    "Amount,\n",
    "AmountType,\n",
    "PaidAmount,\n",
    "ClaimID,\n",
    "PayorID,\n",
    "ProcedureCode,\n",
    "ICDCode,\n",
    "LineOfBusiness,\n",
    "MedicaidID,\n",
    "MedicareID,\n",
    "SRC_InsertDate,\n",
    "SRC_ModifiedDate,\n",
    "datasource,\n",
    "is_quarantined,\n",
    "audit_insertdate,\n",
    "audit_modifieddate,\n",
    "is_current\n",
    ")\n",
    "values \n",
    "(\n",
    "  source.TransactionID,\n",
    "  source.src_transactionid,\n",
    "  source.encounterid,\n",
    "  source.patientid,\n",
    "  source.providerid,\n",
    "  source.deptid,\n",
    "  source.visitdate,\n",
    "  source.servicedate,\n",
    "  source.paiddate,\n",
    "  source.visittype,\n",
    "  source.amount,\n",
    "  source.amounttype,\n",
    "  source.paidamount,\n",
    "  source.claimid,\n",
    "  source.payorid,\n",
    "  source.procedurecode,\n",
    "  source.icdcode,\n",
    "  source.lineofbusiness,\n",
    "  source.medicaidid,\n",
    "  source.medicareid,\n",
    "  source.src_insertdate,\n",
    "  source.src_modifieddate,\n",
    "  source.datasource,\n",
    "  source.is_quarantined,\n",
    "  current_timestamp(),\n",
    "  current_timestamp(),\n",
    "  true\n",
    ");"
   ]
  },
  {
   "cell_type": "code",
   "execution_count": 0,
   "metadata": {
    "application/vnd.databricks.v1+cell": {
     "cellMetadata": {
      "byteLimit": 2048000,
      "implicitDf": true,
      "rowLimit": 10000
     },
     "inputWidgets": {},
     "nuid": "625e94ba-83ac-4b05-810b-5718570b67da",
     "showTitle": false,
     "tableResultSettingsMap": {},
     "title": ""
    }
   },
   "outputs": [],
   "source": [
    "%sql\n",
    "select * from silver.transactions limit 10;"
   ]
  },
  {
   "cell_type": "code",
   "execution_count": 0,
   "metadata": {
    "application/vnd.databricks.v1+cell": {
     "cellMetadata": {},
     "inputWidgets": {},
     "nuid": "985d2aa6-cc30-42d6-9765-72d5c0ac6c2b",
     "showTitle": false,
     "tableResultSettingsMap": {},
     "title": ""
    }
   },
   "outputs": [],
   "source": []
  }
 ],
 "metadata": {
  "application/vnd.databricks.v1+notebook": {
   "computePreferences": null,
   "dashboards": [],
   "environmentMetadata": {
    "base_environment": "",
    "environment_version": "2"
   },
   "inputWidgetPreferences": null,
   "language": "python",
   "notebookMetadata": {
    "mostRecentlyExecutedCommandWithImplicitDF": {
     "commandId": 6748570093998583,
     "dataframes": [
      "_sqldf"
     ]
    },
    "pythonIndentUnit": 4
   },
   "notebookName": "transaction_cdm_scd2",
   "widgets": {}
  },
  "language_info": {
   "name": "python"
  }
 },
 "nbformat": 4,
 "nbformat_minor": 0
}
