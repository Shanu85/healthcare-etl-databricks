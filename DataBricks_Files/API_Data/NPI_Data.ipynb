{
 "cells": [
  {
   "cell_type": "code",
   "execution_count": 0,
   "metadata": {
    "application/vnd.databricks.v1+cell": {
     "cellMetadata": {
      "byteLimit": 2048000,
      "rowLimit": 10000
     },
     "inputWidgets": {},
     "nuid": "90d581d4-0fba-4d06-a834-5197a5e003b6",
     "showTitle": false,
     "tableResultSettingsMap": {},
     "title": ""
    }
   },
   "outputs": [],
   "source": [
    "from datetime import date\n",
    "import requests\n",
    "from pyspark.sql import SparkSession"
   ]
  },
  {
   "cell_type": "code",
   "execution_count": 0,
   "metadata": {
    "application/vnd.databricks.v1+cell": {
     "cellMetadata": {
      "byteLimit": 2048000,
      "rowLimit": 10000
     },
     "inputWidgets": {},
     "nuid": "b6436f89-a3a6-4f30-8a49-13d136ad974e",
     "showTitle": false,
     "tableResultSettingsMap": {},
     "title": ""
    }
   },
   "outputs": [],
   "source": [
    "spark = SparkSession.builder.appName(\"NPI Data\").getOrCreate()\n",
    "\n",
    "current_date = date.today()\n",
    "\n",
    "base_url = \"https://npiregistry.cms.hhs.gov/api/\"\n",
    "\n",
    "params = {\n",
    "    \"version\": \"2.1\",  # API version\n",
    "    \"state\": \"CA\",  # Example state, replace with desired state or other criteria\n",
    "    \"city\": \"Los Angeles\",  # Example city, replace with desired city\n",
    "    \"limit\": 200,  # Limit the number of results for demonstration purposes\n",
    "}\n",
    "\n",
    "response = requests.get(base_url, params=params)"
   ]
  },
  {
   "cell_type": "code",
   "execution_count": 0,
   "metadata": {
    "application/vnd.databricks.v1+cell": {
     "cellMetadata": {
      "byteLimit": 2048000,
      "rowLimit": 10000
     },
     "inputWidgets": {},
     "nuid": "b18d2ff8-0da0-4f0d-8259-8ca77cc9724e",
     "showTitle": false,
     "tableResultSettingsMap": {},
     "title": ""
    }
   },
   "outputs": [],
   "source": [
    "if response.status_code == 200:\n",
    "    npi_data = response.json()\n",
    "    npi_list=[result for result in npi_data.get(\"results\", [])]\n",
    "\n",
    "    detailed_results=[]\n",
    "    \n",
    "    for result in npi_list:\n",
    "        npi_number = result.get(\"number\")\n",
    "        basic_info = result.get(\"basic\", {})\n",
    "        if result[\"enumeration_type\"] == \"NPI-1\":\n",
    "            fname = basic_info.get(\"first_name\", \"\")\n",
    "            lname = basic_info.get(\"last_name\", \"\")\n",
    "        else:\n",
    "            fname = basic_info.get(\"authorized_official_first_name\", \"\")\n",
    "            lname = basic_info.get(\"authorized_official_last_name\", \"\")\n",
    "            position = (\n",
    "                        basic_info.get(\"authorized_official_title_or_position\", \"\")\n",
    "                        if \"authorized_official_title_or_position\" in basic_info\n",
    "                        else \"\"\n",
    "                    )\n",
    "            organisation = basic_info.get(\"organization_name\", \"\")\n",
    "            last_updated = basic_info.get(\"last_updated\", \"\")\n",
    "            detailed_results.append(\n",
    "                        {\n",
    "                            \"npi_id\": npi_number,\n",
    "                            \"first_name\": fname,\n",
    "                            \"last_name\": lname,\n",
    "                            \"position\": position,\n",
    "                            \"organisation_name\": organisation,\n",
    "                            \"last_updated\": last_updated,\n",
    "                            \"refreshed_at\": current_date,\n",
    "                        }\n",
    "                    )"
   ]
  },
  {
   "cell_type": "code",
   "execution_count": 0,
   "metadata": {
    "application/vnd.databricks.v1+cell": {
     "cellMetadata": {
      "byteLimit": 2048000,
      "rowLimit": 10000
     },
     "inputWidgets": {},
     "nuid": "df63993d-38b0-4535-97f3-7cc81026efe4",
     "showTitle": false,
     "tableResultSettingsMap": {},
     "title": ""
    }
   },
   "outputs": [],
   "source": [
    "if detailed_results:\n",
    "    #print(detailed_results)\n",
    "    df = spark.createDataFrame(detailed_results)\n",
    "    display(df)\n",
    "    df.coalesce(1).write.format(\"parquet\").mode(\"overwrite\").save(\"/mnt/bronze/npi_extract/\")\n",
    "    #df.coalesce(1).write.format(\"delta\").mode(\"overwrite\").saveAsTable(\"npi_extract\")\n",
    "\n",
    "else:\n",
    "    print(\"No detailed results found.\")"
   ]
  },
  {
   "cell_type": "code",
   "execution_count": 0,
   "metadata": {
    "application/vnd.databricks.v1+cell": {
     "cellMetadata": {},
     "inputWidgets": {},
     "nuid": "ee92f89c-8111-4be4-aad5-6aa0f5c06bc5",
     "showTitle": false,
     "tableResultSettingsMap": {},
     "title": ""
    }
   },
   "outputs": [],
   "source": []
  }
 ],
 "metadata": {
  "application/vnd.databricks.v1+notebook": {
   "computePreferences": null,
   "dashboards": [],
   "environmentMetadata": {
    "base_environment": "",
    "environment_version": "2"
   },
   "inputWidgetPreferences": null,
   "language": "python",
   "notebookMetadata": {
    "pythonIndentUnit": 4
   },
   "notebookName": "NPI_Data",
   "widgets": {}
  },
  "language_info": {
   "name": "python"
  }
 },
 "nbformat": 4,
 "nbformat_minor": 0
}
