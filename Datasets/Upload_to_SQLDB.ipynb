{
 "cells": [
  {
   "cell_type": "code",
   "execution_count": 0,
   "metadata": {
    "application/vnd.databricks.v1+cell": {
     "cellMetadata": {},
     "inputWidgets": {},
     "nuid": "b4ab5f8c-5220-45df-a376-ca5e87e43c17",
     "showTitle": false,
     "tableResultSettingsMap": {},
     "title": ""
    },
    "id": "vzCpINhIbA6N"
   },
   "outputs": [],
   "source": [
    "import pandas as pd"
   ]
  },
  {
   "cell_type": "code",
   "execution_count": 0,
   "metadata": {
    "application/vnd.databricks.v1+cell": {
     "cellMetadata": {},
     "inputWidgets": {},
     "nuid": "6bc987f3-7bda-4e0d-8f60-93f85d3defcf",
     "showTitle": false,
     "tableResultSettingsMap": {},
     "title": ""
    },
    "colab": {
     "base_uri": "https://localhost:8080/"
    },
    "id": "i_z88XjDWNh4",
    "outputId": "4882de86-ae2e-489e-9ae9-13e6b4b35b45"
   },
   "outputs": [],
   "source": [
    "!pip install mysql-connector-python"
   ]
  },
  {
   "cell_type": "code",
   "execution_count": 0,
   "metadata": {
    "application/vnd.databricks.v1+cell": {
     "cellMetadata": {},
     "inputWidgets": {},
     "nuid": "be1cc6e1-59da-4888-b82a-47acd0a3658b",
     "showTitle": false,
     "tableResultSettingsMap": {},
     "title": ""
    },
    "id": "ZhprI2S-bQtV"
   },
   "outputs": [],
   "source": [
    "def read_csv_file(file_path):\n",
    "  df=pd.read_csv(file_path)\n",
    "  print(f'total records in file is -> {df.count()}')\n",
    "\n",
    "  return df"
   ]
  },
  {
   "cell_type": "code",
   "execution_count": 0,
   "metadata": {
    "application/vnd.databricks.v1+cell": {
     "cellMetadata": {},
     "inputWidgets": {},
     "nuid": "5c63390d-c5f3-4133-9610-42ab4b4836ed",
     "showTitle": false,
     "tableResultSettingsMap": {},
     "title": ""
    },
    "id": "mIUU0lodcRWy"
   },
   "outputs": [],
   "source": [
    "import mysql.connector\n",
    "from mysql.connector import Error\n",
    "\n",
    "def create_table_insert_data(hostname,database,username,password,port,df,tablename,create_table_query,insert_query):\n",
    "  try:\n",
    "    connection = mysql.connector.connect(host=hostname, database=database, user=username, password=password, port=port)\n",
    "    if connection.is_connected():\n",
    "      print('Connected to MYSQL server successfully!!')\n",
    "      cursor = connection.cursor()\n",
    "      print(create_table_query)\n",
    "\n",
    "      cursor.execute(create_table_query)\n",
    "\n",
    "      print(f'Table {tablename} created successfully!!!')\n",
    "\n",
    "      # Step 6: Insert data in batches of 500 records\n",
    "      batch_size = 1000  # Define the batch size\n",
    "      total_records = len(df)  # Get total records in the DataFrame\n",
    "\n",
    "      print(f\"Starting data insertion into `{tablename}` in batches of {batch_size} records.\")\n",
    "      for start in range(0, total_records, batch_size):\n",
    "          end = start + batch_size\n",
    "          batch = df.iloc[start:end]  # Get the current batch of records\n",
    "\n",
    "          # Convert batch to list of tuples for MySQL insertion\n",
    "          batch_records = [\n",
    "                tuple(row) for row in batch.itertuples(index=False, name=None)\n",
    "            ]\n",
    "\n",
    "          # Execute the insertion query for the batch\n",
    "          cursor.executemany(insert_query, batch_records)\n",
    "          connection.commit()  # Commit after each batch\n",
    "          print(f\"Inserted records {start + 1} to {min(end, total_records)} successfully.\")\n",
    "\n",
    "      print(f\"All {total_records} records inserted successfully into `{tablename}`.\")\n",
    "\n",
    "  except Error as e:\n",
    "    print(\"Error while connecting to MySQL\", e)\n",
    "  finally:\n",
    "    if connection.is_connected():\n",
    "        cursor.close()\n",
    "        connection.close()\n",
    "        print(\"MySQL connection is closed\")\n",
    "\n"
   ]
  },
  {
   "cell_type": "code",
   "execution_count": 0,
   "metadata": {
    "application/vnd.databricks.v1+cell": {
     "cellMetadata": {},
     "inputWidgets": {},
     "nuid": "8e4cdb68-6943-4b44-af7a-16ca8038ded2",
     "showTitle": false,
     "tableResultSettingsMap": {},
     "title": ""
    },
    "id": "-7R17rZRiTfj"
   },
   "outputs": [],
   "source": [
    "create_table_query_departments=f\"\"\"\n",
    "CREATE TABLE departments (\n",
    "    DeptID nvarchar(50) NOT NULL,\n",
    "    Name nvarchar(50) NOT NULL,\n",
    "    CONSTRAINT PK_departments PRIMARY KEY (DeptID)\n",
    ");\n",
    "      \"\"\"\n",
    "\n",
    "create_table_query_encounters=f\"\"\"\n",
    "CREATE TABLE encounters (\n",
    "    EncounterID nvarchar(50) NOT NULL,\n",
    "    PatientID nvarchar(50) NOT NULL,\n",
    "    EncounterDate date NOT NULL,\n",
    "    EncounterType nvarchar(50) NOT NULL,\n",
    "    ProviderID nvarchar(50) NOT NULL,\n",
    "    DepartmentID nvarchar(50) NOT NULL,\n",
    "    ProcedureCode int NOT NULL,\n",
    "    InsertedDate date NOT NULL,\n",
    "    ModifiedDate date NOT NULL,\n",
    "    CONSTRAINT PK_encounters PRIMARY KEY (EncounterID)\n",
    ");\n",
    "\"\"\"\n",
    "\n",
    "create_table_query_patients=f\"\"\"\n",
    "CREATE TABLE patients (\n",
    "    ID nvarchar(50) NOT NULL,\n",
    "    F_Name nvarchar(50) NOT NULL,\n",
    "    L_Name nvarchar(50) NOT NULL,\n",
    "    M_Name nvarchar(50) NOT NULL,\n",
    "    SSN nvarchar(50) NOT NULL,\n",
    "    PhoneNumber nvarchar(50) NOT NULL,\n",
    "    Gender nvarchar(50) NOT NULL,\n",
    "    DOB date NOT NULL,\n",
    "    Address nvarchar(100) NOT NULL,\n",
    "    Updated_Date date NOT NULL,\n",
    "    CONSTRAINT PK_patients PRIMARY KEY (ID)\n",
    ");\n",
    "\"\"\"\n",
    "\n",
    "create_table_query_providers=f\"\"\"\n",
    "CREATE TABLE providers (\n",
    "    ProviderID nvarchar(50) NOT NULL,\n",
    "    FirstName nvarchar(50) NOT NULL,\n",
    "    LastName nvarchar(50) NOT NULL,\n",
    "    Specialization nvarchar(50) NOT NULL,\n",
    "    DeptID nvarchar(50) NOT NULL,\n",
    "    NPI bigint NOT NULL,\n",
    "    CONSTRAINT PK_providers PRIMARY KEY (ProviderID)\n",
    ");\n",
    "\"\"\"\n",
    "\n",
    "create_table_query_transactions=f\"\"\"\n",
    "CREATE TABLE transactions (\n",
    "    TransactionID nvarchar(50) NOT NULL,\n",
    "    EncounterID nvarchar(50) NOT NULL,\n",
    "    PatientID nvarchar(50) NOT NULL,\n",
    "    ProviderID nvarchar(50) NOT NULL,\n",
    "    DeptID nvarchar(50) NOT NULL,\n",
    "    VisitDate date NOT NULL,\n",
    "    ServiceDate date NOT NULL,\n",
    "    PaidDate date NOT NULL,\n",
    "    VisitType nvarchar(50) NOT NULL,\n",
    "    Amount float NOT NULL,\n",
    "    AmountType nvarchar(50) NOT NULL,\n",
    "    PaidAmount float NOT NULL,\n",
    "    ClaimID nvarchar(50) NOT NULL,\n",
    "    PayorID nvarchar(50) NOT NULL,\n",
    "    ProcedureCode int NOT NULL,\n",
    "    ICDCode nvarchar(50) NOT NULL,\n",
    "    LineOfBusiness nvarchar(50) NOT NULL,\n",
    "    MedicaidID nvarchar(50) NOT NULL,\n",
    "    MedicareID nvarchar(50) NOT NULL,\n",
    "    InsertDate date NOT NULL,\n",
    "    ModifiedDate date NOT NULL,\n",
    "    CONSTRAINT PK_transactions PRIMARY KEY (TransactionID)\n",
    ");\n",
    "\"\"\""
   ]
  },
  {
   "cell_type": "code",
   "execution_count": 0,
   "metadata": {
    "application/vnd.databricks.v1+cell": {
     "cellMetadata": {},
     "inputWidgets": {},
     "nuid": "f54ee675-3f08-4f9f-be66-7332aeea7a17",
     "showTitle": false,
     "tableResultSettingsMap": {},
     "title": ""
    },
    "id": "mB8HRchsfqx7"
   },
   "outputs": [],
   "source": [
    "def insert_into_command(tablename,df):\n",
    "  columns = ', '.join(df.columns)\n",
    "  placeholders = ', '.join(['%s'] * len(df.columns))\n",
    "  sql = f\"INSERT INTO {tablename} ({columns}) VALUES ({placeholders})\"\n",
    "\n",
    "  return sql"
   ]
  },
  {
   "cell_type": "code",
   "execution_count": 0,
   "metadata": {
    "application/vnd.databricks.v1+cell": {
     "cellMetadata": {},
     "inputWidgets": {},
     "nuid": "11936d02-e205-43ad-82e4-53674171471c",
     "showTitle": false,
     "tableResultSettingsMap": {},
     "title": ""
    },
    "id": "xDzgIZdaeZYH"
   },
   "outputs": [],
   "source": [
    "tables=[\"departments\",\"encounters\",\"patients\",\"providers\",\"transactions\"]\n",
    "files=[\"hospital2_department_data.csv\",\"hospital2_encounter_data.csv\",\"hospital2_patients_data.csv\",\"hospital2_provider_data.csv\",\"hospital2_transaction_data.csv\"]\n",
    "create_table_queries=[create_table_query_departments,create_table_query_encounters,create_table_query_patients,create_table_query_providers,create_table_query_transactions]"
   ]
  },
  {
   "cell_type": "code",
   "execution_count": 0,
   "metadata": {
    "application/vnd.databricks.v1+cell": {
     "cellMetadata": {},
     "inputWidgets": {},
     "nuid": "b29c7d2c-199c-4b92-a98b-e971a574952d",
     "showTitle": false,
     "tableResultSettingsMap": {},
     "title": ""
    },
    "colab": {
     "base_uri": "https://localhost:8080/"
    },
    "id": "QzkcqLT5g44W",
    "outputId": "7fb4ff0c-c0bc-45f3-f653-b2d85410c410"
   },
   "outputs": [],
   "source": [
    "\n",
    "for i in range(0,len(files)):\n",
    "  df=read_csv_file(files[i])\n",
    "  create_table_query=create_table_queries[i]\n",
    "  insert_query=insert_into_command(tables[i],df)\n",
    "  tablename=tables[i]\n",
    "\n",
    "  if tablename!='patients':\n",
    "    continue\n",
    "\n",
    "  create_table_insert_data(hostname_hospitalB,database_hospitalB,username_hospitalB,password_hospitalB,port_hospitalB,df,tablename,create_table_query,insert_query)"
   ]
  },
  {
   "cell_type": "code",
   "execution_count": 0,
   "metadata": {
    "application/vnd.databricks.v1+cell": {
     "cellMetadata": {},
     "inputWidgets": {},
     "nuid": "5736bd5e-1153-4d54-ba00-6f53cc022659",
     "showTitle": false,
     "tableResultSettingsMap": {},
     "title": ""
    },
    "id": "m9yJ0EDqbPzK"
   },
   "outputs": [],
   "source": []
  },
  {
   "cell_type": "code",
   "execution_count": 0,
   "metadata": {
    "application/vnd.databricks.v1+cell": {
     "cellMetadata": {},
     "inputWidgets": {},
     "nuid": "aef7ad15-d1ba-499a-ae9a-338f7c9b4a2e",
     "showTitle": false,
     "tableResultSettingsMap": {},
     "title": ""
    },
    "id": "hm5ynvCPQ8Sd"
   },
   "outputs": [],
   "source": []
  }
 ],
 "metadata": {
  "application/vnd.databricks.v1+notebook": {
   "computePreferences": null,
   "dashboards": [],
   "environmentMetadata": null,
   "inputWidgetPreferences": null,
   "language": "python",
   "notebookMetadata": {
    "pythonIndentUnit": 4
   },
   "notebookName": "Upload_to_SQLDB",
   "widgets": {}
  },
  "colab": {
   "provenance": []
  },
  "kernelspec": {
   "display_name": "Python 3",
   "name": "python3"
  },
  "language_info": {
   "name": "python"
  }
 },
 "nbformat": 4,
 "nbformat_minor": 0
}
